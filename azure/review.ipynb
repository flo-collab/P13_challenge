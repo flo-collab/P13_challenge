{
 "cells": [
  {
   "cell_type": "code",
   "execution_count": null,
   "metadata": {},
   "outputs": [],
   "source": [
    "! pip install pandas\n"
   ]
  },
  {
   "cell_type": "code",
   "execution_count": 13,
   "metadata": {},
   "outputs": [],
   "source": [
    "import pandas as pd\n",
    "import numpy as np\n",
    "import os\n",
    "from typing import Tuple\n",
    "from dotenv import load_dotenv\n",
    "# Text Analytics module\n",
    "from azure.ai.textanalytics import TextAnalyticsClient\n",
    "# Azure Key Credentials module\n",
    "from azure.core.credentials import AzureKeyCredential\n",
    "\n",
    "load_dotenv()\n",
    "cog_endpoint = os.getenv(\"COG_SERVICE_ENDPOINT\")\n",
    "cog_key = os.getenv(\"COG_SERVICE_KEY\")"
   ]
  },
  {
   "cell_type": "code",
   "execution_count": 70,
   "metadata": {},
   "outputs": [],
   "source": [
    "def get_sentiment(text: str) -> Tuple[str, str, float, float, float]:\n",
    "    # Instantiate Azure Key Credential using `cog_key` variable\n",
    "    credential =AzureKeyCredential(cog_key)\n",
    "\n",
    "    # Instantiate Text Analytics Client using `cog_endpoint` and `credential` variables\n",
    "    client = TextAnalyticsClient(cog_endpoint, credential)\n",
    "\n",
    "    # Find out the language of the text\n",
    "    results =client.detect_language(documents=[text])[0]\n",
    "    detected_language = results.primary_language\n",
    "\n",
    "    # Prepare documents with detected language\n",
    "    documents = [text]\n",
    "\n",
    "    # Analyze the sentiment of the documents\n",
    "    results = client.analyze_sentiment(documents, language=detected_language.iso6391_name)\n",
    "    doc = results[0]\n",
    "    # Extract results\n",
    "    sentiment =doc.sentiment\n",
    "    positive =doc.confidence_scores.positive\n",
    "    neutral = doc.confidence_scores.neutral\n",
    "    negative = doc.confidence_scores.negative\n",
    "    \n",
    "    return  detected_language.name, sentiment, positive, neutral, negative"
   ]
  },
  {
   "cell_type": "markdown",
   "metadata": {},
   "source": [
    "## Version user_imput:"
   ]
  },
  {
   "cell_type": "code",
   "execution_count": 100,
   "metadata": {},
   "outputs": [
    {
     "name": "stdout",
     "output_type": "stream",
     "text": [
      "Detected French text with negative sentiment\n",
      "(12.0% positive, 0.0% neutral, 88.0% negative)\n"
     ]
    }
   ],
   "source": [
    "\n",
    "text = input(\"Text to analyze: \")\n",
    "language, sentiment, positive, neutral, negative = get_sentiment(text)\n",
    "print(f\"Detected {language} text with {sentiment} sentiment\")\n",
    "print(f\"({positive * 100}% positive, {neutral * 100}% neutral, {negative * 100}% negative)\")"
   ]
  },
  {
   "cell_type": "markdown",
   "metadata": {},
   "source": [
    "## Version Csv_pandas"
   ]
  },
  {
   "cell_type": "code",
   "execution_count": 72,
   "metadata": {},
   "outputs": [],
   "source": [
    "df_review = pd.read_csv('reviews.csv') "
   ]
  },
  {
   "cell_type": "code",
   "execution_count": 73,
   "metadata": {},
   "outputs": [
    {
     "data": {
      "text/plain": [
       "2"
      ]
     },
     "execution_count": 73,
     "metadata": {},
     "output_type": "execute_result"
    }
   ],
   "source": [
    "az_labels = ['positif','neutre','negatif']\n",
    "np.argmax([2,34,88])"
   ]
  },
  {
   "cell_type": "code",
   "execution_count": 93,
   "metadata": {},
   "outputs": [],
   "source": [
    "def az_review(text):\n",
    "    language, sentiment, positive, neutral, negative = get_sentiment(text)\n",
    "    return [ language, sentiment, positive, neutral, negative]\n",
    "\n",
    "def apply_from_to(df=pd.DataFrame,col1=str,col2=str):\n",
    "    df[col2] = 0\n",
    "    for i in range(len(df)):\n",
    "        print(i)\n",
    "        df[col2][i] = az_review(df[col1][i])\n",
    "    return df\n",
    "\n",
    "def cut_string(string:str):\n",
    "    return string[:5100]\n",
    "\n",
    "def which_az_predict(maliste):\n",
    "    listresult = maliste[2:]\n",
    "    idx = np.argmax(listresult)\n",
    "    out = ['pos','neutre','neg'][idx]\n",
    "    return out"
   ]
  },
  {
   "cell_type": "code",
   "execution_count": null,
   "metadata": {},
   "outputs": [],
   "source": [
    "df_review['reviews_cut'] = df_review['reviews'].apply(cut_string)\n",
    "df_review = apply_from_to(df_review,'reviews_cut','az_no_clean')"
   ]
  },
  {
   "cell_type": "code",
   "execution_count": 76,
   "metadata": {},
   "outputs": [
    {
     "data": {
      "text/html": [
       "<div>\n",
       "<style scoped>\n",
       "    .dataframe tbody tr th:only-of-type {\n",
       "        vertical-align: middle;\n",
       "    }\n",
       "\n",
       "    .dataframe tbody tr th {\n",
       "        vertical-align: top;\n",
       "    }\n",
       "\n",
       "    .dataframe thead th {\n",
       "        text-align: right;\n",
       "    }\n",
       "</style>\n",
       "<table border=\"1\" class=\"dataframe\">\n",
       "  <thead>\n",
       "    <tr style=\"text-align: right;\">\n",
       "      <th></th>\n",
       "      <th>target</th>\n",
       "      <th>reviews</th>\n",
       "      <th>reviews_cut</th>\n",
       "      <th>az_no_clean</th>\n",
       "    </tr>\n",
       "  </thead>\n",
       "  <tbody>\n",
       "    <tr>\n",
       "      <th>0</th>\n",
       "      <td>neg</td>\n",
       "      <td>plot : two teen couples go to a church party ,...</td>\n",
       "      <td>plot : two teen couples go to a church party ,...</td>\n",
       "      <td>[English, mixed, 0.17, 0.07, 0.76]</td>\n",
       "    </tr>\n",
       "    <tr>\n",
       "      <th>1</th>\n",
       "      <td>neg</td>\n",
       "      <td>the happy bastard's quick movie review \\ndamn ...</td>\n",
       "      <td>the happy bastard's quick movie review \\ndamn ...</td>\n",
       "      <td>[English, mixed, 0.17, 0.07, 0.76]</td>\n",
       "    </tr>\n",
       "    <tr>\n",
       "      <th>2</th>\n",
       "      <td>neg</td>\n",
       "      <td>it is movies like these that make a jaded movi...</td>\n",
       "      <td>it is movies like these that make a jaded movi...</td>\n",
       "      <td>[English, mixed, 0.23, 0.08, 0.69]</td>\n",
       "    </tr>\n",
       "    <tr>\n",
       "      <th>3</th>\n",
       "      <td>neg</td>\n",
       "      <td>\" quest for camelot \" is warner bros . ' firs...</td>\n",
       "      <td>\" quest for camelot \" is warner bros . ' firs...</td>\n",
       "      <td>[English, mixed, 0.28, 0.04, 0.68]</td>\n",
       "    </tr>\n",
       "    <tr>\n",
       "      <th>4</th>\n",
       "      <td>neg</td>\n",
       "      <td>synopsis : a mentally unstable man undergoing ...</td>\n",
       "      <td>synopsis : a mentally unstable man undergoing ...</td>\n",
       "      <td>[English, mixed, 0.12, 0.05, 0.83]</td>\n",
       "    </tr>\n",
       "    <tr>\n",
       "      <th>...</th>\n",
       "      <td>...</td>\n",
       "      <td>...</td>\n",
       "      <td>...</td>\n",
       "      <td>...</td>\n",
       "    </tr>\n",
       "    <tr>\n",
       "      <th>1995</th>\n",
       "      <td>pos</td>\n",
       "      <td>wow ! what a movie . \\nit's everything a movie...</td>\n",
       "      <td>wow ! what a movie . \\nit's everything a movie...</td>\n",
       "      <td>[English, mixed, 0.73, 0.02, 0.25]</td>\n",
       "    </tr>\n",
       "    <tr>\n",
       "      <th>1996</th>\n",
       "      <td>pos</td>\n",
       "      <td>richard gere can be a commanding actor , but h...</td>\n",
       "      <td>richard gere can be a commanding actor , but h...</td>\n",
       "      <td>[English, mixed, 0.22, 0.08, 0.7]</td>\n",
       "    </tr>\n",
       "    <tr>\n",
       "      <th>1997</th>\n",
       "      <td>pos</td>\n",
       "      <td>glory--starring matthew broderick , denzel was...</td>\n",
       "      <td>glory--starring matthew broderick , denzel was...</td>\n",
       "      <td>[English, mixed, 0.17, 0.04, 0.79]</td>\n",
       "    </tr>\n",
       "    <tr>\n",
       "      <th>1998</th>\n",
       "      <td>pos</td>\n",
       "      <td>steven spielberg's second epic film on world w...</td>\n",
       "      <td>steven spielberg's second epic film on world w...</td>\n",
       "      <td>[English, mixed, 0.32, 0.04, 0.64]</td>\n",
       "    </tr>\n",
       "    <tr>\n",
       "      <th>1999</th>\n",
       "      <td>pos</td>\n",
       "      <td>truman ( \" true-man \" ) burbank is the perfect...</td>\n",
       "      <td>truman ( \" true-man \" ) burbank is the perfect...</td>\n",
       "      <td>[English, mixed, 0.33, 0.07, 0.6]</td>\n",
       "    </tr>\n",
       "  </tbody>\n",
       "</table>\n",
       "<p>2000 rows × 4 columns</p>\n",
       "</div>"
      ],
      "text/plain": [
       "     target                                            reviews  \\\n",
       "0       neg  plot : two teen couples go to a church party ,...   \n",
       "1       neg  the happy bastard's quick movie review \\ndamn ...   \n",
       "2       neg  it is movies like these that make a jaded movi...   \n",
       "3       neg   \" quest for camelot \" is warner bros . ' firs...   \n",
       "4       neg  synopsis : a mentally unstable man undergoing ...   \n",
       "...     ...                                                ...   \n",
       "1995    pos  wow ! what a movie . \\nit's everything a movie...   \n",
       "1996    pos  richard gere can be a commanding actor , but h...   \n",
       "1997    pos  glory--starring matthew broderick , denzel was...   \n",
       "1998    pos  steven spielberg's second epic film on world w...   \n",
       "1999    pos  truman ( \" true-man \" ) burbank is the perfect...   \n",
       "\n",
       "                                            reviews_cut  \\\n",
       "0     plot : two teen couples go to a church party ,...   \n",
       "1     the happy bastard's quick movie review \\ndamn ...   \n",
       "2     it is movies like these that make a jaded movi...   \n",
       "3      \" quest for camelot \" is warner bros . ' firs...   \n",
       "4     synopsis : a mentally unstable man undergoing ...   \n",
       "...                                                 ...   \n",
       "1995  wow ! what a movie . \\nit's everything a movie...   \n",
       "1996  richard gere can be a commanding actor , but h...   \n",
       "1997  glory--starring matthew broderick , denzel was...   \n",
       "1998  steven spielberg's second epic film on world w...   \n",
       "1999  truman ( \" true-man \" ) burbank is the perfect...   \n",
       "\n",
       "                             az_no_clean  \n",
       "0     [English, mixed, 0.17, 0.07, 0.76]  \n",
       "1     [English, mixed, 0.17, 0.07, 0.76]  \n",
       "2     [English, mixed, 0.23, 0.08, 0.69]  \n",
       "3     [English, mixed, 0.28, 0.04, 0.68]  \n",
       "4     [English, mixed, 0.12, 0.05, 0.83]  \n",
       "...                                  ...  \n",
       "1995  [English, mixed, 0.73, 0.02, 0.25]  \n",
       "1996   [English, mixed, 0.22, 0.08, 0.7]  \n",
       "1997  [English, mixed, 0.17, 0.04, 0.79]  \n",
       "1998  [English, mixed, 0.32, 0.04, 0.64]  \n",
       "1999   [English, mixed, 0.33, 0.07, 0.6]  \n",
       "\n",
       "[2000 rows x 4 columns]"
      ]
     },
     "execution_count": 76,
     "metadata": {},
     "output_type": "execute_result"
    }
   ],
   "source": [
    "df_review"
   ]
  },
  {
   "cell_type": "code",
   "execution_count": null,
   "metadata": {},
   "outputs": [],
   "source": [
    "import re\n",
    "def remove_punctuation(oldtext):\n",
    "    newtext = re.sub(r'[^A-Za-z]+', ' ', oldtext)\n",
    "    return newtext\n",
    "\n",
    "df_review['clean'] = df_review['reviews'].apply(remove_punctuation)\n",
    "df_review['clean'] = df_review['clean'].str.lower()\n",
    "df_review.loc[df_review['target'] == 'pos', \"num_target\"] = int(1)\n",
    "df_review.loc[df_review['target'] == 'neg', \"num_target\"] = int(0)\n",
    "df_review[\"num_target\"] = df_review[\"num_target\"].astype(int)\n",
    "df_review"
   ]
  },
  {
   "cell_type": "code",
   "execution_count": 91,
   "metadata": {},
   "outputs": [
    {
     "data": {
      "text/plain": [
       "'negatif'"
      ]
     },
     "execution_count": 91,
     "metadata": {},
     "output_type": "execute_result"
    }
   ],
   "source": [
    "which_az_predict(df_review['az_no_clean'][0])"
   ]
  },
  {
   "cell_type": "code",
   "execution_count": 94,
   "metadata": {},
   "outputs": [],
   "source": [
    "df_review['az_predict'] = df_review['az_no_clean'].apply(which_az_predict)"
   ]
  },
  {
   "cell_type": "code",
   "execution_count": 96,
   "metadata": {},
   "outputs": [
    {
     "data": {
      "text/plain": [
       "neg    1000\n",
       "pos    1000\n",
       "Name: target, dtype: int64"
      ]
     },
     "execution_count": 96,
     "metadata": {},
     "output_type": "execute_result"
    }
   ],
   "source": [
    "df_review['target'].value_counts()"
   ]
  },
  {
   "cell_type": "code",
   "execution_count": 95,
   "metadata": {},
   "outputs": [
    {
     "data": {
      "text/plain": [
       "neg    1750\n",
       "pos     250\n",
       "Name: az_predict, dtype: int64"
      ]
     },
     "execution_count": 95,
     "metadata": {},
     "output_type": "execute_result"
    }
   ],
   "source": [
    "df_review['az_predict'].value_counts()"
   ]
  },
  {
   "cell_type": "code",
   "execution_count": null,
   "metadata": {},
   "outputs": [],
   "source": []
  },
  {
   "cell_type": "markdown",
   "metadata": {},
   "source": [
    "## Stuff_exploration"
   ]
  },
  {
   "cell_type": "code",
   "execution_count": null,
   "metadata": {},
   "outputs": [],
   "source": [
    "\n",
    "# df_review['az_no_clean'] = df_review['reviews'].apply(az_review)"
   ]
  },
  {
   "cell_type": "code",
   "execution_count": 47,
   "metadata": {},
   "outputs": [
    {
     "data": {
      "text/plain": [
       "['mixed', 0.17, 0.07, 0.76]"
      ]
     },
     "execution_count": 47,
     "metadata": {},
     "output_type": "execute_result"
    }
   ],
   "source": [
    "az_review(df_review['reviews'][0])"
   ]
  },
  {
   "cell_type": "code",
   "execution_count": 21,
   "metadata": {},
   "outputs": [],
   "source": [
    "df_review['az_no_clean'] = 0"
   ]
  },
  {
   "cell_type": "code",
   "execution_count": 19,
   "metadata": {},
   "outputs": [
    {
     "data": {
      "text/plain": [
       "0    [English, mixed, 0.17, 0.07, 0.76]\n",
       "1    [English, mixed, 0.17, 0.07, 0.76]\n",
       "Name: reviews, dtype: object"
      ]
     },
     "execution_count": 19,
     "metadata": {},
     "output_type": "execute_result"
    }
   ],
   "source": [
    "df_review['reviews'][0:2].apply(az_review)"
   ]
  },
  {
   "cell_type": "code",
   "execution_count": 30,
   "metadata": {},
   "outputs": [
    {
     "data": {
      "text/html": [
       "<div>\n",
       "<style scoped>\n",
       "    .dataframe tbody tr th:only-of-type {\n",
       "        vertical-align: middle;\n",
       "    }\n",
       "\n",
       "    .dataframe tbody tr th {\n",
       "        vertical-align: top;\n",
       "    }\n",
       "\n",
       "    .dataframe thead th {\n",
       "        text-align: right;\n",
       "    }\n",
       "</style>\n",
       "<table border=\"1\" class=\"dataframe\">\n",
       "  <thead>\n",
       "    <tr style=\"text-align: right;\">\n",
       "      <th></th>\n",
       "      <th>target</th>\n",
       "      <th>reviews</th>\n",
       "    </tr>\n",
       "  </thead>\n",
       "  <tbody>\n",
       "    <tr>\n",
       "      <th>0</th>\n",
       "      <td>neg</td>\n",
       "      <td>plot : two teen couples go to a church party ,...</td>\n",
       "    </tr>\n",
       "    <tr>\n",
       "      <th>1</th>\n",
       "      <td>neg</td>\n",
       "      <td>the happy bastard's quick movie review \\ndamn ...</td>\n",
       "    </tr>\n",
       "    <tr>\n",
       "      <th>2</th>\n",
       "      <td>neg</td>\n",
       "      <td>it is movies like these that make a jaded movi...</td>\n",
       "    </tr>\n",
       "    <tr>\n",
       "      <th>3</th>\n",
       "      <td>neg</td>\n",
       "      <td>\" quest for camelot \" is warner bros . ' firs...</td>\n",
       "    </tr>\n",
       "    <tr>\n",
       "      <th>4</th>\n",
       "      <td>neg</td>\n",
       "      <td>synopsis : a mentally unstable man undergoing ...</td>\n",
       "    </tr>\n",
       "    <tr>\n",
       "      <th>...</th>\n",
       "      <td>...</td>\n",
       "      <td>...</td>\n",
       "    </tr>\n",
       "    <tr>\n",
       "      <th>1995</th>\n",
       "      <td>pos</td>\n",
       "      <td>wow ! what a movie . \\nit's everything a movie...</td>\n",
       "    </tr>\n",
       "    <tr>\n",
       "      <th>1996</th>\n",
       "      <td>pos</td>\n",
       "      <td>richard gere can be a commanding actor , but h...</td>\n",
       "    </tr>\n",
       "    <tr>\n",
       "      <th>1997</th>\n",
       "      <td>pos</td>\n",
       "      <td>glory--starring matthew broderick , denzel was...</td>\n",
       "    </tr>\n",
       "    <tr>\n",
       "      <th>1998</th>\n",
       "      <td>pos</td>\n",
       "      <td>steven spielberg's second epic film on world w...</td>\n",
       "    </tr>\n",
       "    <tr>\n",
       "      <th>1999</th>\n",
       "      <td>pos</td>\n",
       "      <td>truman ( \" true-man \" ) burbank is the perfect...</td>\n",
       "    </tr>\n",
       "  </tbody>\n",
       "</table>\n",
       "<p>2000 rows × 2 columns</p>\n",
       "</div>"
      ],
      "text/plain": [
       "     target                                            reviews\n",
       "0       neg  plot : two teen couples go to a church party ,...\n",
       "1       neg  the happy bastard's quick movie review \\ndamn ...\n",
       "2       neg  it is movies like these that make a jaded movi...\n",
       "3       neg   \" quest for camelot \" is warner bros . ' firs...\n",
       "4       neg  synopsis : a mentally unstable man undergoing ...\n",
       "...     ...                                                ...\n",
       "1995    pos  wow ! what a movie . \\nit's everything a movie...\n",
       "1996    pos  richard gere can be a commanding actor , but h...\n",
       "1997    pos  glory--starring matthew broderick , denzel was...\n",
       "1998    pos  steven spielberg's second epic film on world w...\n",
       "1999    pos  truman ( \" true-man \" ) burbank is the perfect...\n",
       "\n",
       "[2000 rows x 2 columns]"
      ]
     },
     "execution_count": 30,
     "metadata": {},
     "output_type": "execute_result"
    }
   ],
   "source": [
    "df_review"
   ]
  },
  {
   "cell_type": "code",
   "execution_count": 55,
   "metadata": {},
   "outputs": [
    {
     "data": {
      "text/plain": [
       "366"
      ]
     },
     "execution_count": 55,
     "metadata": {},
     "output_type": "execute_result"
    }
   ],
   "source": [
    "print((df_review['reviews'].apply(len) > 5120).sum())"
   ]
  },
  {
   "cell_type": "code",
   "execution_count": 67,
   "metadata": {},
   "outputs": [
    {
     "data": {
      "text/plain": [
       "10    False\n",
       "11    False\n",
       "12    False\n",
       "13     True\n",
       "14    False\n",
       "15    False\n",
       "16    False\n",
       "17    False\n",
       "18    False\n",
       "19    False\n",
       "Name: reviews, dtype: bool"
      ]
     },
     "execution_count": 67,
     "metadata": {},
     "output_type": "execute_result"
    }
   ],
   "source": [
    "(df_review['reviews'].apply(len) > 5120)[10:20]"
   ]
  },
  {
   "cell_type": "code",
   "execution_count": 64,
   "metadata": {},
   "outputs": [
    {
     "data": {
      "text/plain": [
       "5100"
      ]
     },
     "execution_count": 64,
     "metadata": {},
     "output_type": "execute_result"
    }
   ],
   "source": [
    "len(df_review['reviews'][1999])\n",
    "len(df_review['reviews'][1999][:5100])\n",
    "len(cut_string(df_review['reviews'][1999]))"
   ]
  }
 ],
 "metadata": {
  "interpreter": {
   "hash": "5acdc75ab74a24f5facfd46a79c9c28455bb9f2cd89735b1181ca98c066d9cc5"
  },
  "kernelspec": {
   "display_name": "Python 3.8.8 64-bit ('lab-uZcFF_29': pipenv)",
   "language": "python",
   "name": "python3"
  },
  "language_info": {
   "codemirror_mode": {
    "name": "ipython",
    "version": 3
   },
   "file_extension": ".py",
   "mimetype": "text/x-python",
   "name": "python",
   "nbconvert_exporter": "python",
   "pygments_lexer": "ipython3",
   "version": "3.8.8"
  },
  "orig_nbformat": 4
 },
 "nbformat": 4,
 "nbformat_minor": 2
}
